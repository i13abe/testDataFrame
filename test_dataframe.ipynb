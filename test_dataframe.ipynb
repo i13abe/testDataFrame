{
 "cells": [
  {
   "cell_type": "markdown",
   "metadata": {},
   "source": [
    "# Import"
   ]
  },
  {
   "cell_type": "code",
   "execution_count": null,
   "metadata": {},
   "outputs": [],
   "source": [
    "import numpy as np\n",
    "import pandas as pd\n",
    "import random\n",
    "import string\n",
    "import json\n",
    "import ipywidgets as iw\n",
    "\n",
    "from IPython.display import display\n",
    "from datetime import datetime as dt\n",
    "\n",
    "from src.widgets import DFWidgets\n",
    "from src.utils import make_config_from_df, upload_file"
   ]
  },
  {
   "cell_type": "markdown",
   "metadata": {},
   "source": [
    "# Definition"
   ]
  },
  {
   "cell_type": "code",
   "execution_count": null,
   "metadata": {},
   "outputs": [],
   "source": [
    "INPUT_PATH = '' # json, csv, pickle, pkl, or DataFrame is also OK\n",
    "\n",
    "INPUT_DATA = INPUT_PATH"
   ]
  },
  {
   "cell_type": "code",
   "execution_count": null,
   "metadata": {
    "scrolled": true
   },
   "outputs": [],
   "source": [
    "df_dict = upload_file(INPUT_DATA)\n",
    "df_dict"
   ]
  },
  {
   "cell_type": "markdown",
   "metadata": {},
   "source": [
    "# Make Dummy DataFrame"
   ]
  },
  {
   "cell_type": "code",
   "execution_count": null,
   "metadata": {},
   "outputs": [],
   "source": [
    "df_w = DFWidgets(df_dict, lim_w=3)"
   ]
  },
  {
   "cell_type": "markdown",
   "metadata": {},
   "source": [
    "## Description GUI\n",
    "- **[make DF] Button**: Save a generating random dummy dataframe as pickle with set parameters when click\n",
    "- **[DF Name]**: The name of dump file.\n",
    "- **[Num Rows]**: The number of rows of generating data.\n",
    "- **[Feat Name]**: A feature name.\n",
    "- **[NaN rate]**: The rate of NaN in this feature.\n",
    "- **[Dtype]**: A feature type. you can choose str, int, float, or datetime\n",
    "    - **str**: You can choose kind of unique\n",
    "        - **Random letter**: Randomly generated letter with a specified number of characters.\n",
    "        - **Random number**: Randomly generated numbers with a specified number of characters. Missing digits are filled with 0.\n",
    "        - **Unique Seaquential number**: Seaquential numbers from specified start.\n",
    "        - **Unique letter**: Generates a unique letters with a specified number of characters.\n",
    "        - **yourself**: Randomly generated letter with a specified list.\n",
    "        - **nan to white space**: IF checked, translate NaN to space\n",
    "    - **int**: Randomly generated integer from min to max.\n",
    "    - **float**: Randomly generated float from min to max.\n",
    "    - **datetime**: Seaquential datetime from start to end by freq. Any missing lines are repeated.\n",
    "- **[+] Button**: Add a feature.\n",
    "- **[×] Button**: Delete a feature"
   ]
  },
  {
   "cell_type": "code",
   "execution_count": null,
   "metadata": {},
   "outputs": [],
   "source": [
    "df_w.show()"
   ]
  },
  {
   "cell_type": "code",
   "execution_count": null,
   "metadata": {},
   "outputs": [],
   "source": [
    "assert False # Stop run all"
   ]
  },
  {
   "cell_type": "code",
   "execution_count": null,
   "metadata": {},
   "outputs": [],
   "source": [
    "df = pd.read_pickle('test_df.pkl')\n",
    "df"
   ]
  },
  {
   "cell_type": "code",
   "execution_count": null,
   "metadata": {},
   "outputs": [],
   "source": [
    "df.info()"
   ]
  },
  {
   "cell_type": "code",
   "execution_count": null,
   "metadata": {},
   "outputs": [],
   "source": []
  }
 ],
 "metadata": {
  "kernelspec": {
   "display_name": "Python 3 (ipykernel)",
   "language": "python",
   "name": "python3"
  },
  "language_info": {
   "codemirror_mode": {
    "name": "ipython",
    "version": 3
   },
   "file_extension": ".py",
   "mimetype": "text/x-python",
   "name": "python",
   "nbconvert_exporter": "python",
   "pygments_lexer": "ipython3",
   "version": "3.8.10"
  },
  "vscode": {
   "interpreter": {
    "hash": "ddb05a391e2aaea93a9a03aeff717827e2d2293fb8daf1caae477e16e69f5778"
   }
  }
 },
 "nbformat": 4,
 "nbformat_minor": 4
}
