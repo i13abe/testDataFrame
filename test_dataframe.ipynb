{
 "cells": [
  {
   "cell_type": "code",
   "execution_count": 1,
   "metadata": {},
   "outputs": [],
   "source": [
    "import numpy as np\n",
    "import pandas as pd\n",
    "import random\n",
    "import string\n",
    "import json\n",
    "import ipywidgets as iw\n",
    "\n",
    "from IPython.display import display\n",
    "from datetime import datetime as dt\n",
    "\n",
    "from make_df_widgets import DFWidgets\n",
    "from make_df import make_config_from_df"
   ]
  },
  {
   "cell_type": "code",
   "execution_count": null,
   "metadata": {},
   "outputs": [],
   "source": [
    "INPUT_PATH = ''\n",
    "\n",
    "# df = pd.read_csv(INPUT_PATH)\n",
    "\n",
    "INPUT_DATA = INPUT_PATH # or df"
   ]
  },
  {
   "cell_type": "code",
   "execution_count": 2,
   "metadata": {},
   "outputs": [],
   "source": [
    "def upload_file(input_data, **kwargs):\n",
    "    \"\"\"\n",
    "    This is uploader for generating DataFrame.\n",
    "    input data is expected json path, csv path, pickle path, or DataFrame.\n",
    "    Args:\n",
    "        input_data (Union[str, pd.DataFrame]) : json path, csv path, pickle path or DataFrame\n",
    "        kwargs (Dict) : additional arguments for read csv or read_pickle\n",
    "    Returns:\n",
    "        df_dict (Dict) : Config data for generating GUI\n",
    "    \"\"\"\n",
    "    try:\n",
    "        if isinstance(input_data, str):\n",
    "            exe = input_data.split('.')[-1]\n",
    "            if exe == 'json':\n",
    "                with open(input_data, mode='r') as f:\n",
    "                    df_dict = json.load(f)\n",
    "            elif exe == 'csv':\n",
    "                input_data = pd.read_csv(input_data, **kwargs)\n",
    "            elif exe == 'pickle':\n",
    "                input_data = pd.read_pickle(input_data, **kwargs)\n",
    "            else:\n",
    "                df_dict = {}\n",
    "        if isinstance(input_data, pd.DataFrame):\n",
    "            df_dict = make_config_from_df(input_data)\n",
    "\n",
    "    except Exception as e:\n",
    "        df_dict = {}\n",
    "        import traceback\n",
    "        traceback.print_exc()\n",
    "        \n",
    "    return df_dict"
   ]
  },
  {
   "cell_type": "code",
   "execution_count": 3,
   "metadata": {},
   "outputs": [
    {
     "name": "stdout",
     "output_type": "stream",
     "text": [
      "[Errno 2] No such file or directory: ''\n"
     ]
    }
   ],
   "source": [
    "df_dict = upload_file(INPUT_DATA)"
   ]
  },
  {
   "cell_type": "code",
   "execution_count": 4,
   "metadata": {},
   "outputs": [],
   "source": [
    "df_w = DFWidgets(df_dict)"
   ]
  },
  {
   "cell_type": "code",
   "execution_count": 5,
   "metadata": {},
   "outputs": [
    {
     "data": {
      "application/vnd.jupyter.widget-view+json": {
       "model_id": "b286693156074a5f9b2cd802c0ee7af4",
       "version_major": 2,
       "version_minor": 0
      },
      "text/plain": [
       "VBox(children=(Button(description='make DF', style=ButtonStyle()), Text(value='test_df', description='DF Name'…"
      ]
     },
     "metadata": {},
     "output_type": "display_data"
    },
    {
     "data": {
      "application/vnd.jupyter.widget-view+json": {
       "model_id": "5e46e73f0373424c803a3f0004b8a101",
       "version_major": 2,
       "version_minor": 0
      },
      "text/plain": [
       "VBox(children=(Box(children=(VBox(children=(Box(children=(Text(value='', description='Feat Name', layout=Layou…"
      ]
     },
     "metadata": {},
     "output_type": "display_data"
    }
   ],
   "source": [
    "df_w.show()"
   ]
  },
  {
   "cell_type": "code",
   "execution_count": 6,
   "metadata": {},
   "outputs": [
    {
     "ename": "AssertionError",
     "evalue": "",
     "output_type": "error",
     "traceback": [
      "\u001b[1;31m---------------------------------------------------------------------------\u001b[0m",
      "\u001b[1;31mAssertionError\u001b[0m                            Traceback (most recent call last)",
      "Cell \u001b[1;32mIn [6], line 1\u001b[0m\n\u001b[1;32m----> 1\u001b[0m \u001b[38;5;28;01massert\u001b[39;00m \u001b[38;5;28;01mFalse\u001b[39;00m\n",
      "\u001b[1;31mAssertionError\u001b[0m: "
     ]
    }
   ],
   "source": [
    "assert False # Stop run all"
   ]
  },
  {
   "cell_type": "code",
   "execution_count": null,
   "metadata": {},
   "outputs": [],
   "source": [
    "df = pd.read_pickle('test_df.pkl')\n",
    "df.head()"
   ]
  },
  {
   "cell_type": "code",
   "execution_count": null,
   "metadata": {},
   "outputs": [],
   "source": [
    "df.info()"
   ]
  },
  {
   "cell_type": "code",
   "execution_count": null,
   "metadata": {},
   "outputs": [],
   "source": []
  }
 ],
 "metadata": {
  "kernelspec": {
   "display_name": "Python 3 (ipykernel)",
   "language": "python",
   "name": "python3"
  },
  "language_info": {
   "codemirror_mode": {
    "name": "ipython",
    "version": 3
   },
   "file_extension": ".py",
   "mimetype": "text/x-python",
   "name": "python",
   "nbconvert_exporter": "python",
   "pygments_lexer": "ipython3",
   "version": "3.8.10"
  },
  "vscode": {
   "interpreter": {
    "hash": "ddb05a391e2aaea93a9a03aeff717827e2d2293fb8daf1caae477e16e69f5778"
   }
  }
 },
 "nbformat": 4,
 "nbformat_minor": 4
}
